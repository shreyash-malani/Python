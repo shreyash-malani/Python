{
 "cells": [
  {
   "cell_type": "markdown",
   "metadata": {},
   "source": [
    "## Basic Of Python"
   ]
  },
  {
   "cell_type": "markdown",
   "metadata": {},
   "source": [
    "# Printing Concept"
   ]
  },
  {
   "cell_type": "code",
   "execution_count": 1,
   "metadata": {},
   "outputs": [
    {
     "name": "stdout",
     "output_type": "stream",
     "text": [
      "Hello World!!!\n"
     ]
    }
   ],
   "source": [
    "#Print Statement Of Hello World\n",
    "print(\"Hello World!!!\")"
   ]
  },
  {
   "cell_type": "code",
   "execution_count": 2,
   "metadata": {},
   "outputs": [
    {
     "name": "stdout",
     "output_type": "stream",
     "text": [
      "a b c\n"
     ]
    }
   ],
   "source": [
    "#print Statement of Characters\n",
    "print('a','b','c')"
   ]
  },
  {
   "cell_type": "code",
   "execution_count": 4,
   "metadata": {},
   "outputs": [
    {
     "name": "stdout",
     "output_type": "stream",
     "text": [
      "a_b_c\n"
     ]
    }
   ],
   "source": [
    "#print Statement of Characters with Usign \"_\" In Between \n",
    "print('a','b','c',sep='_')"
   ]
  },
  {
   "cell_type": "code",
   "execution_count": 7,
   "metadata": {},
   "outputs": [
    {
     "name": "stdout",
     "output_type": "stream",
     "text": [
      "a b c*"
     ]
    }
   ],
   "source": [
    "#print Statement of Characters with Usign \"*\" At End \n",
    "print('a','b','c',end='*')"
   ]
  },
  {
   "cell_type": "code",
   "execution_count": 8,
   "metadata": {},
   "outputs": [
    {
     "name": "stdout",
     "output_type": "stream",
     "text": [
      "5\n"
     ]
    }
   ],
   "source": [
    "#Print of X which is Declared First\n",
    "x=5\n",
    "print(x)"
   ]
  },
  {
   "cell_type": "markdown",
   "metadata": {},
   "source": [
    "# Input Concept"
   ]
  },
  {
   "cell_type": "code",
   "execution_count": 11,
   "metadata": {},
   "outputs": [
    {
     "name": "stdout",
     "output_type": "stream",
     "text": [
      "Enter the 1st Number : 4\n",
      "Enter the 2nd Number : 5\n",
      "4\n",
      "5\n"
     ]
    }
   ],
   "source": [
    "#Input Of Two Numbers\n",
    "#We no need to add print statements for Entering No \n",
    "#e.g : \"Enter The Number\"\n",
    "\n",
    "Num1=input(\"Enter the 1st Number : \")\n",
    "Num2=input(\"Enter the 2nd Number : \")\n",
    "print(Num1)\n",
    "print(Num2)"
   ]
  },
  {
   "cell_type": "code",
   "execution_count": 12,
   "metadata": {},
   "outputs": [
    {
     "name": "stdout",
     "output_type": "stream",
     "text": [
      "Enter Your Name : Asim\n",
      "Asim\n"
     ]
    }
   ],
   "source": [
    "#input As A String \n",
    "A=input(\"Enter Your Name : \")\n",
    "print(A)"
   ]
  },
  {
   "cell_type": "markdown",
   "metadata": {},
   "source": [
    "# Comments "
   ]
  },
  {
   "cell_type": "code",
   "execution_count": 14,
   "metadata": {},
   "outputs": [
    {
     "name": "stdout",
     "output_type": "stream",
     "text": [
      " Hash# Is Use For One Line Comments\n",
      "Three Double Code Is Used For Multiple Line Comments\n"
     ]
    }
   ],
   "source": [
    "#There Are Two Ways To Write A Comment\n",
    "#Using \"#\"\n",
    "print(\" Hash# Is Use For One Line Comments\")\n",
    "#Using \"\"\" This Three Double Code\n",
    "\"\"\"\n",
    "In that we can write \n",
    "Multiple line comments\n",
    "\"\"\"\n",
    "print(\"Three Double Code Is Used For Multiple Line Comments\")"
   ]
  },
  {
   "cell_type": "markdown",
   "metadata": {},
   "source": [
    "# Operartions"
   ]
  },
  {
   "cell_type": "code",
   "execution_count": 16,
   "metadata": {},
   "outputs": [
    {
     "name": "stdout",
     "output_type": "stream",
     "text": [
      "Enter The 1st Num :4\n",
      "Enter The 2nd Num :5\n",
      "45\n"
     ]
    }
   ],
   "source": [
    "#When We Need to Add Two Numbers Then TypeCasting Is Used\n",
    "#When We Not Given The Type Of Variable \n",
    "#Then\n",
    "\n",
    "x=input(\"Enter The 1st Num :\")\n",
    "y=input(\"Enter The 2nd Num :\")\n",
    "z=x+y\n",
    "print(z)"
   ]
  },
  {
   "cell_type": "code",
   "execution_count": 18,
   "metadata": {},
   "outputs": [
    {
     "name": "stdout",
     "output_type": "stream",
     "text": [
      "Enter The 1st Num :4\n",
      "Enter The 2nd Num :5\n",
      "9\n"
     ]
    }
   ],
   "source": [
    "#Therefore We Use TypeCasting \n",
    "#By This We Can Perform All Types Of Operations\n",
    "\n",
    "x=input(\"Enter The 1st Num :\")\n",
    "y=input(\"Enter The 2nd Num :\")\n",
    "z=int(x)+int(y)\n",
    "print(z)"
   ]
  },
  {
   "cell_type": "markdown",
   "metadata": {},
   "source": [
    "# Data Types In Python\n",
    "There Are 8 Types Of Data Types In Python\n",
    "1. Integer\n",
    "2. Float\n",
    "3. String\n",
    "4. Complex\n",
    "5. Boolean\n",
    "6. List\n",
    "7. Tuple\n",
    "8. Set"
   ]
  },
  {
   "cell_type": "markdown",
   "metadata": {},
   "source": [
    "1. Integer"
   ]
  },
  {
   "cell_type": "code",
   "execution_count": 19,
   "metadata": {},
   "outputs": [
    {
     "name": "stdout",
     "output_type": "stream",
     "text": [
      "3\n"
     ]
    }
   ],
   "source": [
    "#x has an integer value 3 \n",
    "\n",
    "x=int(3)\n",
    "print(x)"
   ]
  },
  {
   "cell_type": "markdown",
   "metadata": {},
   "source": [
    "2. Float"
   ]
  },
  {
   "cell_type": "code",
   "execution_count": 20,
   "metadata": {},
   "outputs": [
    {
     "name": "stdout",
     "output_type": "stream",
     "text": [
      "3.0\n"
     ]
    }
   ],
   "source": [
    "#x has an Floating value 3 \n",
    "\n",
    "x=float(3)\n",
    "print(x)"
   ]
  },
  {
   "cell_type": "markdown",
   "metadata": {},
   "source": [
    "3. String"
   ]
  },
  {
   "cell_type": "code",
   "execution_count": 21,
   "metadata": {},
   "outputs": [
    {
     "name": "stdout",
     "output_type": "stream",
     "text": [
      "Asim\n"
     ]
    }
   ],
   "source": [
    "#inserting an string \n",
    "\n",
    "x=str(\"Asim\")\n",
    "print(x)"
   ]
  },
  {
   "cell_type": "markdown",
   "metadata": {},
   "source": [
    "4. Complex"
   ]
  },
  {
   "cell_type": "code",
   "execution_count": 22,
   "metadata": {},
   "outputs": [
    {
     "name": "stdout",
     "output_type": "stream",
     "text": [
      "(3+2j)\n"
     ]
    }
   ],
   "source": [
    "#If we want to display an Complex Numbers Then We use complex as a data type\n",
    "#e.g : 3+2j\n",
    "\n",
    "cp=complex(3,2)\n",
    "print(cp)"
   ]
  },
  {
   "cell_type": "markdown",
   "metadata": {},
   "source": [
    "5. Boolean"
   ]
  },
  {
   "cell_type": "code",
   "execution_count": 3,
   "metadata": {},
   "outputs": [
    {
     "name": "stdout",
     "output_type": "stream",
     "text": [
      "True\n",
      "True\n",
      "Most Values are True..\n",
      "True\n",
      "True\n",
      "True\n",
      "Some Values are False\n",
      "False\n",
      "False\n",
      "False\n",
      "False\n",
      "False\n",
      "False\n",
      "False\n"
     ]
    }
   ],
   "source": [
    "# defination : You can evaluate any expression in Python, and get one of two answers, True or False.\n",
    "\n",
    "x = \"Hello\"\n",
    "y = 15\n",
    "\n",
    "print(bool(x))\n",
    "print(bool(y))\n",
    "\n",
    "# Most Values are True..\n",
    "\n",
    "print(\"Most Values are True..\")\n",
    "print(bool(\"abc\"))\n",
    "print(bool(123))\n",
    "print(bool([\"apple\", \"cherry\", \"banana\"]))\n",
    "\n",
    "# Some Values are False\n",
    "\n",
    "print(\"Some Values are False\")\n",
    "print(bool(False))\n",
    "print(bool(None))\n",
    "print(bool(0))\n",
    "print(bool(\"\"))\n",
    "print(bool(()))\n",
    "print(bool([]))\n",
    "print(bool({}))\n"
   ]
  },
  {
   "cell_type": "markdown",
   "metadata": {},
   "source": [
    "6. List"
   ]
  },
  {
   "cell_type": "code",
   "execution_count": 23,
   "metadata": {},
   "outputs": [
    {
     "name": "stdout",
     "output_type": "stream",
     "text": [
      "['CSE', 'Mech', 'Civil', 'AI']\n"
     ]
    }
   ],
   "source": [
    "#Display Of List\n",
    "#List Is represent in []\n",
    "\n",
    "l=['CSE','Mech','Civil','AI']\n",
    "print(l)"
   ]
  },
  {
   "cell_type": "markdown",
   "metadata": {},
   "source": [
    "#Operations In List"
   ]
  },
  {
   "cell_type": "code",
   "execution_count": 1,
   "metadata": {},
   "outputs": [
    {
     "name": "stdout",
     "output_type": "stream",
     "text": [
      "['a', 'b', 'c']\n"
     ]
    }
   ],
   "source": [
    "#simple list operation\n",
    "l=['a','b','c']\n",
    "print(l)"
   ]
  },
  {
   "cell_type": "code",
   "execution_count": 2,
   "metadata": {},
   "outputs": [
    {
     "name": "stdout",
     "output_type": "stream",
     "text": [
      "['CSE', 'Mech', 'Civil', 'AI']\n"
     ]
    }
   ],
   "source": [
    "#insert list operation\n",
    "l=['CSE','Mech','AI']\n",
    "l.insert(2,'Civil')\n",
    "print(l)"
   ]
  },
  {
   "cell_type": "code",
   "execution_count": 9,
   "metadata": {},
   "outputs": [
    {
     "name": "stdout",
     "output_type": "stream",
     "text": [
      "['CSE', 'Mech', 'AI', 'Civil']\n"
     ]
    }
   ],
   "source": [
    "#Append list operation\n",
    "l=['CSE','Mech','AI']\n",
    "l.append(\"Civil\")\n",
    "print(l)"
   ]
  },
  {
   "cell_type": "code",
   "execution_count": 10,
   "metadata": {},
   "outputs": [
    {
     "name": "stdout",
     "output_type": "stream",
     "text": [
      "['CSE', 'Mech', 'Civil', 'AI', 'Electrical', 'Electronic']\n"
     ]
    }
   ],
   "source": [
    "#Extend list operation\n",
    "l=['CSE','Mech','Civil','AI']\n",
    "e=['Electrical','Electronic']\n",
    "l.extend(e)\n",
    "print(l)"
   ]
  },
  {
   "cell_type": "code",
   "execution_count": 11,
   "metadata": {},
   "outputs": [
    {
     "name": "stdout",
     "output_type": "stream",
     "text": [
      "['CSE', 'Mech', 'AI']\n"
     ]
    }
   ],
   "source": [
    "#Remove Item From List\n",
    "l=['CSE','Mech','Civil','AI']\n",
    "l.remove(\"Civil\")\n",
    "print(l)"
   ]
  },
  {
   "cell_type": "code",
   "execution_count": 12,
   "metadata": {},
   "outputs": [
    {
     "name": "stdout",
     "output_type": "stream",
     "text": [
      "['CSE', 'Mech', 'AI']\n"
     ]
    }
   ],
   "source": [
    "#if we want to remove on basis of index\n",
    "l=['CSE','Mech','Civil','AI']\n",
    "l.pop(2)\n",
    "print(l)"
   ]
  },
  {
   "cell_type": "code",
   "execution_count": 13,
   "metadata": {},
   "outputs": [
    {
     "name": "stdout",
     "output_type": "stream",
     "text": [
      "['Mech', 'Civil', 'AI']\n"
     ]
    }
   ],
   "source": [
    "#remove item using del \n",
    "l=['CSE','Mech','Civil','AI']\n",
    "del l[0]\n",
    "print(l)"
   ]
  },
  {
   "cell_type": "code",
   "execution_count": 16,
   "metadata": {},
   "outputs": [
    {
     "name": "stdout",
     "output_type": "stream",
     "text": [
      "[]\n"
     ]
    }
   ],
   "source": [
    "#remove entire list using clear()\n",
    "l=['CSE','Mech','Civil','AI']\n",
    "l.clear()\n",
    "print(l)"
   ]
  },
  {
   "cell_type": "code",
   "execution_count": 6,
   "metadata": {},
   "outputs": [
    {
     "name": "stdout",
     "output_type": "stream",
     "text": [
      "['CSE', 'Electrical', 'AI']\n"
     ]
    }
   ],
   "source": [
    "#change item from the list \n",
    "l=['CSE','Mech','AI']\n",
    "l[1]=\"Electrical\"\n",
    "print(l)"
   ]
  },
  {
   "cell_type": "code",
   "execution_count": 4,
   "metadata": {},
   "outputs": [
    {
     "name": "stdout",
     "output_type": "stream",
     "text": [
      "Yes , 'AI' Is A Department In The College \n"
     ]
    }
   ],
   "source": [
    "#search in list\n",
    "l=['CSE','Mech','Civil','AI']\n",
    "if \"AI\" in l:\n",
    "    print(\"Yes , 'AI' Is A Department In The College \")\n"
   ]
  },
  {
   "cell_type": "markdown",
   "metadata": {},
   "source": [
    "7. Tuple"
   ]
  },
  {
   "cell_type": "code",
   "execution_count": 11,
   "metadata": {},
   "outputs": [
    {
     "name": "stdout",
     "output_type": "stream",
     "text": [
      "('apple', 'banana', 'cherry')\n"
     ]
    }
   ],
   "source": [
    "'''\n",
    "Tuple is a collection which is ordered and unchangeable. Allows duplicate members\n",
    "Tuples are written with round brackets.\n",
    "'''\n",
    "thistuple = (\"apple\", \"banana\", \"cherry\")\n",
    "print(thistuple)\n"
   ]
  },
  {
   "cell_type": "code",
   "execution_count": 6,
   "metadata": {},
   "outputs": [
    {
     "name": "stdout",
     "output_type": "stream",
     "text": [
      "3\n"
     ]
    }
   ],
   "source": [
    "# for length of the tuple \n",
    "\n",
    "thistuple = (\"apple\", \"banana\", \"cherry\")\n",
    "print(len(thistuple))"
   ]
  },
  {
   "cell_type": "code",
   "execution_count": 7,
   "metadata": {},
   "outputs": [
    {
     "name": "stdout",
     "output_type": "stream",
     "text": [
      "<class 'tuple'>\n",
      "<class 'str'>\n"
     ]
    }
   ],
   "source": [
    "# Type of Tuple \n",
    "# This is  Tuple \n",
    "thistuple = (\"apple\",)       #comma is Important for tuple\n",
    "print(type(thistuple))\n",
    "\n",
    "#NOT a tuple\n",
    "thistuple = (\"apple\")\n",
    "print(type(thistuple))"
   ]
  },
  {
   "cell_type": "code",
   "execution_count": 10,
   "metadata": {},
   "outputs": [
    {
     "name": "stdout",
     "output_type": "stream",
     "text": [
      "('abc', 34, True, 40, 'male')\n"
     ]
    }
   ],
   "source": [
    "# A tuple can contain different data types\n",
    "\n",
    "tuple1 = (\"abc\", 34, True, 40, \"male\")\n",
    "print(tuple1)"
   ]
  },
  {
   "cell_type": "code",
   "execution_count": 15,
   "metadata": {},
   "outputs": [
    {
     "name": "stdout",
     "output_type": "stream",
     "text": [
      "Access Tuple Items\n",
      "banana\n",
      "And Negative Indexing\n",
      "cherry\n",
      "Actual Tuple Is\n",
      "('apple', 'banana', 'cherry', 'orange', 'kiwi', 'melon', 'mango')\n",
      "Range of Indexes-- 2:5 \n",
      "('cherry', 'orange', 'kiwi')\n",
      "it is one of the type1-- :4\n",
      "('apple', 'banana', 'cherry', 'orange')\n",
      "it is one of the type2-- 2:\n",
      "('cherry', 'orange', 'kiwi', 'melon', 'mango')\n",
      "Range of Negative Indexes-- -4:-1\n",
      "('orange', 'kiwi', 'melon')\n"
     ]
    }
   ],
   "source": [
    "# Access Tuple Items\n",
    "print(\"Access Tuple Items\")\n",
    "thistuple = (\"apple\", \"banana\", \"cherry\")\n",
    "print(thistuple[1])\n",
    "\n",
    "# And Negative Indexing\n",
    "print(\"And Negative Indexing\")\n",
    "thistuple = (\"apple\", \"banana\", \"cherry\")\n",
    "print(thistuple[-1])\n",
    "\n",
    "# Actual Tuple Is\n",
    "print(\"Actual Tuple Is\")\n",
    "thistuple = (\"apple\", \"banana\", \"cherry\", \"orange\", \"kiwi\", \"melon\", \"mango\")\n",
    "print(thistuple)\n",
    "\n",
    "# Range of Indexes\n",
    "print(\"Range of Indexes-- 2:5 \")\n",
    "thistuple = (\"apple\", \"banana\", \"cherry\", \"orange\", \"kiwi\", \"melon\", \"mango\")\n",
    "print(thistuple[2:5])\n",
    "\n",
    "# type1\n",
    "print(\"it is one of the type1-- :4\")\n",
    "thistuple = (\"apple\", \"banana\", \"cherry\", \"orange\", \"kiwi\", \"melon\", \"mango\")\n",
    "print(thistuple[:4])\n",
    "\n",
    "# type2\n",
    "print(\"it is one of the type2-- 2:\")\n",
    "thistuple = (\"apple\", \"banana\", \"cherry\", \"orange\", \"kiwi\", \"melon\", \"mango\")\n",
    "print(thistuple[2:])\n",
    "\n",
    "# Range of Negative Indexes\n",
    "print(\"Range of Negative Indexes-- -4:-1\")\n",
    "thistuple = (\"apple\", \"banana\", \"cherry\", \"orange\", \"kiwi\", \"melon\", \"mango\")\n",
    "print(thistuple[-4:-1])\n"
   ]
  },
  {
   "cell_type": "code",
   "execution_count": 21,
   "metadata": {},
   "outputs": [
    {
     "name": "stdout",
     "output_type": "stream",
     "text": [
      "('apple', 'banana', 'cherry')\n",
      "('apple', 'kiwi', 'cherry')\n",
      "Add the item in the tuple \n",
      "('apple', 'banana', 'cherry', 'orange')\n",
      "Add Tuple to Tuple\n",
      "('apple', 'banana', 'cherry', 'orange')\n",
      "('banana', 'cherry')\n"
     ]
    }
   ],
   "source": [
    "# As we know Tuples are unchangeable therfore we use the list \n",
    "# Convert the tuple into a list to be able to change it:\n",
    "\n",
    "x = (\"apple\", \"banana\", \"cherry\")\n",
    "print(x)\n",
    "y = list(x)\n",
    "y[1] = \"kiwi\"\n",
    "x = tuple(y)\n",
    "print(x)\n",
    "\n",
    "# Add the item in the tuple \n",
    "print(\"Add the item in the tuple \")\n",
    "thistuple = (\"apple\", \"banana\", \"cherry\")\n",
    "y = list(thistuple)\n",
    "y.append(\"orange\")\n",
    "thistuple = tuple(y)\n",
    "print(thistuple)\n",
    "\n",
    "# Add Tuple to Tuple\n",
    "print(\"Add Tuple to Tuple\")\n",
    "q = (\"apple\", \"banana\", \"cherry\")\n",
    "y = (\"orange\",)\n",
    "q += y\n",
    "print(q)\n",
    "\n",
    "#Remove item \n",
    "# To Delete all item --> del command is not applicable here it will show error\n",
    "p = (\"apple\", \"banana\", \"cherry\")\n",
    "y = list(p)\n",
    "y.remove(\"apple\")\n",
    "p = tuple(y)\n",
    "print(p)\n"
   ]
  },
  {
   "cell_type": "code",
   "execution_count": 22,
   "metadata": {},
   "outputs": [
    {
     "name": "stdout",
     "output_type": "stream",
     "text": [
      "apple\n",
      "banana\n",
      "cherry\n",
      "Using Asterisk *\n",
      "apple\n",
      "['mango', 'papaya', 'pineapple']\n",
      "cherry\n"
     ]
    }
   ],
   "source": [
    "# Unpacking a tuple\n",
    "fruits = (\"apple\", \"banana\", \"cherry\")\n",
    "(green, yellow, red) = fruits\n",
    "print(green)\n",
    "print(yellow)\n",
    "print(red)\n",
    "\n",
    "# Using Asterisk *\n",
    "print(\"Using Asterisk *\")\n",
    "fruits = (\"apple\", \"mango\", \"papaya\", \"pineapple\", \"cherry\")\n",
    "(green, *tropic, red) = fruits\n",
    "print(green)\n",
    "print(tropic)\n",
    "print(red)"
   ]
  },
  {
   "cell_type": "code",
   "execution_count": 23,
   "metadata": {},
   "outputs": [
    {
     "name": "stdout",
     "output_type": "stream",
     "text": [
      "Joining two Tuples\n",
      "('a', 'b', 'c', 1, 2, 3)\n",
      "Multiply the Tuples\n",
      "('apple', 'banana', 'cherry', 'apple', 'banana', 'cherry')\n"
     ]
    }
   ],
   "source": [
    "# Joining two Tuples\n",
    "print(\"Joining two Tuples\")\n",
    "tuple1 = (\"a\", \"b\" , \"c\")\n",
    "tuple2 = (1, 2, 3)\n",
    "tuple3 = tuple1 + tuple2\n",
    "print(tuple3)\n",
    "\n",
    "# Multiply the Tuples\n",
    "print(\"Multiply the Tuples\")\n",
    "fruits = (\"apple\", \"banana\", \"cherry\")\n",
    "mytuple = fruits * 2\n",
    "print(mytuple)"
   ]
  },
  {
   "cell_type": "markdown",
   "metadata": {},
   "source": [
    "8. Set"
   ]
  },
  {
   "cell_type": "code",
   "execution_count": 24,
   "metadata": {},
   "outputs": [
    {
     "name": "stdout",
     "output_type": "stream",
     "text": [
      "{'banana', 'cherry', 'apple'}\n"
     ]
    }
   ],
   "source": [
    "# Defination : Sets are used to store multiple items in a single variable.\n",
    "# A set is a collection which is unordered, unchangeable*, and unindexed.\n",
    "# creating a Set\n",
    "\n",
    "thisset = {\"apple\", \"banana\", \"cherry\", \"apple\"} #as Duplicate value not taken by Set [True & 1] & [False & 0] From this it will give only one;\n",
    "print(thisset)"
   ]
  },
  {
   "cell_type": "code",
   "execution_count": 27,
   "metadata": {},
   "outputs": [
    {
     "name": "stdout",
     "output_type": "stream",
     "text": [
      "3\n",
      "{True, 34, 'male', 40, 'abc'}\n",
      "True\n"
     ]
    }
   ],
   "source": [
    "# Length of Set\n",
    "thisset = {\"apple\", \"banana\", \"cherry\"}\n",
    "print(len(thisset))\n",
    "\n",
    "# A set can contain different data types\n",
    "set1 = {\"abc\", 34, True, 40, \"male\"}\n",
    "print(set1)\n",
    "\n",
    "# It is also possible to use the set() constructor to make a set.\n",
    "\n",
    "# check banana is present in the set \n",
    "thisset = {\"apple\", \"banana\", \"cherry\"}\n",
    "print(\"banana\" in thisset)"
   ]
  },
  {
   "cell_type": "code",
   "execution_count": 29,
   "metadata": {},
   "outputs": [
    {
     "name": "stdout",
     "output_type": "stream",
     "text": [
      "ADD items\n",
      "{'orange', 'banana', 'cherry', 'apple'}\n",
      "from another set into the current set\n",
      "{'banana', 'apple', 'mango', 'pineapple', 'papaya', 'cherry'}\n",
      "elements of a list\n",
      "{'kiwi', 'banana', 'cherry', 'apple', 'orange'}\n"
     ]
    }
   ],
   "source": [
    "# To ADD items in Set Add() is Used\n",
    "print(\"ADD items\")\n",
    "thisset = {\"apple\", \"banana\", \"cherry\"}\n",
    "thisset.add(\"orange\")\n",
    "print(thisset)\n",
    "\n",
    "# To add items from another set into the current set, use the update() method.\n",
    "print(\"from another set into the current set\")\n",
    "a = {\"apple\", \"banana\", \"cherry\"}\n",
    "tropical = {\"pineapple\", \"mango\", \"papaya\"}\n",
    "a.update(tropical)\n",
    "print(a)\n",
    "\n",
    "# Add elements of a list to at set\n",
    "print(\"elements of a list\")\n",
    "b = {\"apple\", \"banana\", \"cherry\"}\n",
    "mylist = [\"kiwi\", \"orange\"]\n",
    "b.update(mylist)\n",
    "print(b)"
   ]
  },
  {
   "cell_type": "code",
   "execution_count": 32,
   "metadata": {},
   "outputs": [
    {
     "name": "stdout",
     "output_type": "stream",
     "text": [
      "remove method : \n",
      "{'cherry', 'apple'}\n",
      "discard method : \n",
      "{'cherry', 'apple'}\n",
      "pop method :\n",
      "banana\n",
      "{'cherry', 'apple'}\n",
      "clear method \n",
      "set()\n"
     ]
    }
   ],
   "source": [
    "# To remove an item in a set, use the remove(), or the discard() method.\n",
    "print(\"remove method : \")\n",
    "thisset = {\"apple\", \"banana\", \"cherry\"}\n",
    "thisset.remove(\"banana\")\n",
    "print(thisset)\n",
    "\n",
    "print(\"discard method : \")\n",
    "thisset = {\"apple\", \"banana\", \"cherry\"}\n",
    "thisset.discard(\"banana\")\n",
    "print(thisset)\n",
    "\n",
    "# You can also use the pop() method to remove an item, but this method will remove a random item, so you cannot be sure what item that gets removed.\n",
    "print(\"pop method :\")\n",
    "thisset = {\"apple\", \"banana\", \"cherry\"}\n",
    "x = thisset.pop()\n",
    "print(x)\n",
    "print(thisset)\n",
    "\n",
    "# The clear() method empties the set\n",
    "print(\"clear method \")\n",
    "thisset = {\"apple\", \"banana\", \"cherry\"}\n",
    "thisset.clear()\n",
    "print(thisset)\n"
   ]
  },
  {
   "cell_type": "code",
   "execution_count": null,
   "metadata": {},
   "outputs": [],
   "source": [
    "# Join Sets\n",
    "# here are several ways to join two or more sets in Python.\n",
    "# The union() and update() methods joins all items from both sets.\n",
    "# The intersection() method keeps ONLY the duplicates.\n",
    "# The difference() method keeps the items from the first set that are not in the other set(s).\n",
    "# The symmetric_difference() method keeps all items EXCEPT the duplicates.\n",
    "\n",
    "# Union\n",
    "print(\"Union\")\n",
    "set1 = {\"a\", \"b\", \"c\"}\n",
    "set2 = {1, 2, 3}\n",
    "set3 = set1.union(set2) #you also use instead of the union() --> set3 = set1 | set2 \n",
    "print(set3)\n",
    "\n",
    "# Union Multiple Sets\n",
    "set1 = {\"a\", \"b\", \"c\"}\n",
    "set2 = {1, 2, 3}\n",
    "set3 = {\"John\", \"Elena\"}\n",
    "set4 = {\"apple\", \"bananas\", \"cherry\"}\n",
    "myset = set1 | set2 | set3 | set4\n",
    "print(myset)\n",
    "\n",
    "# Update\n",
    "# The update() method inserts all items from one set into another.\n",
    "# The update() changes the original set, and does not return a new set.\n",
    "# The update() method inserts the items in set2 into set1\n",
    "set1 = {\"a\", \"b\" , \"c\"}\n",
    "set2 = {1, 2, 3}\n",
    "set1.update(set2)\n",
    "print(set1)\n",
    "\n",
    "# Intersection\n",
    "# Join set1 and set2, but keep only the duplicates\n",
    "set1 = {\"apple\", \"banana\", \"cherry\"}\n",
    "set2 = {\"google\", \"microsoft\", \"apple\"}  #Join sets that contains the values True, False, 1, and 0, and see what is considered as duplicates\n",
    "set3 = set1.intersection(set2) #you also use instead of the intrsection() --> set3 = set1 & set2\n",
    "print(set3)\n",
    "\n",
    "# Difference\n",
    "# The difference() method will return a new set that will contain only the items from the first set that are not present in the other set.\n",
    "set1 = {\"apple\", \"banana\", \"cherry\"}\n",
    "set2 = {\"google\", \"microsoft\", \"apple\"}\n",
    "set3 = set1.difference(set2)  #you also use instead of the difference() --> set3 = set1 - set2\n",
    "print(set3)\n",
    "\n",
    "# symmetric_difference()\n",
    "# The symmetric_difference() method will keep only the elements that are NOT present in both sets.\n",
    "set1 = {\"apple\", \"banana\", \"cherry\"}\n",
    "set2 = {\"google\", \"microsoft\", \"apple\"}\n",
    "set3 = set1.symmetric_difference(set2)  #you also use instead of the difference() --> set3 = set1 ^ set2\n",
    "print(set3)\n",
    "\n"
   ]
  }
 ],
 "metadata": {
  "kernelspec": {
   "display_name": "Python 3 (ipykernel)",
   "language": "python",
   "name": "python3"
  },
  "language_info": {
   "codemirror_mode": {
    "name": "ipython",
    "version": 3
   },
   "file_extension": ".py",
   "mimetype": "text/x-python",
   "name": "python",
   "nbconvert_exporter": "python",
   "pygments_lexer": "ipython3",
   "version": "3.12.4"
  }
 },
 "nbformat": 4,
 "nbformat_minor": 4
}
