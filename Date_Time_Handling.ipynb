{
 "cells": [
  {
   "cell_type": "markdown",
   "metadata": {},
   "source": [
    "# Basic Operations On Date"
   ]
  },
  {
   "cell_type": "code",
   "execution_count": 1,
   "metadata": {},
   "outputs": [
    {
     "name": "stdout",
     "output_type": "stream",
     "text": [
      "Current Date Is : \n",
      " 2024-10-03 21:30:17.259115\n"
     ]
    }
   ],
   "source": [
    "from datetime import datetime \n",
    "#For Getting Current Date .....\n",
    "now = datetime.now()\n",
    "print(\"Current Date Is : \\n\",now)"
   ]
  },
  {
   "cell_type": "code",
   "execution_count": 27,
   "metadata": {},
   "outputs": [
    {
     "name": "stdout",
     "output_type": "stream",
     "text": [
      "Birth_Date Is : \n",
      " 2004-01-01 06:15:00\n"
     ]
    }
   ],
   "source": [
    "# Creating Date_Time Object\n",
    "date_obj = datetime(2004,1,1,6,15)\n",
    "print(\"Birth_Date Is : \\n\",date_obj)"
   ]
  },
  {
   "cell_type": "code",
   "execution_count": 28,
   "metadata": {},
   "outputs": [
    {
     "name": "stdout",
     "output_type": "stream",
     "text": [
      "Converted String TO DateTime Is : \n",
      " 2004-01-01 06:15:00\n"
     ]
    }
   ],
   "source": [
    "# Convert String to Datetime\n",
    "date_str = '2004-01-01 6:15:00'\n",
    "date_convert = datetime.strptime(date_str , '%Y-%m-%d %H:%M:%S')\n",
    "print(\"Converted String TO DateTime Is : \\n\",date_convert)"
   ]
  },
  {
   "cell_type": "code",
   "execution_count": 29,
   "metadata": {},
   "outputs": [
    {
     "name": "stdout",
     "output_type": "stream",
     "text": [
      "Converted DateTime TO String Is : \n",
      " 2004-01-01 06:15:00\n"
     ]
    }
   ],
   "source": [
    "# Convert Datetime to String\n",
    "formatted_date = date_obj.strftime('%Y-%m-%d %H:%M:%S')\n",
    "print(\"Converted DateTime TO String Is : \\n\",formatted_date)"
   ]
  },
  {
   "cell_type": "code",
   "execution_count": 30,
   "metadata": {},
   "outputs": [
    {
     "name": "stdout",
     "output_type": "stream",
     "text": [
      "Difference Between Date Is : \n",
      " 7581 days, 15:53:40.306990\n"
     ]
    }
   ],
   "source": [
    "# Difference Between Two Dates\n",
    "date_obj = datetime(2004,1,1,6,15)\n",
    "time_diff = datetime.now() - date_obj\n",
    "print(\"Difference Between Date Is : \\n\",time_diff)"
   ]
  },
  {
   "cell_type": "markdown",
   "metadata": {},
   "source": [
    "# Study Of Ranges in Dates"
   ]
  },
  {
   "cell_type": "code",
   "execution_count": 35,
   "metadata": {},
   "outputs": [
    {
     "name": "stdout",
     "output_type": "stream",
     "text": [
      "2024-01-01 00:00:00\n",
      "2024-01-02 00:00:00\n",
      "2024-01-03 00:00:00\n",
      "2024-01-04 00:00:00\n",
      "2024-01-05 00:00:00\n",
      "2024-01-06 00:00:00\n",
      "2024-01-07 00:00:00\n",
      "2024-01-08 00:00:00\n",
      "2024-01-09 00:00:00\n",
      "2024-01-10 00:00:00\n",
      "2024-01-11 00:00:00\n",
      "2024-01-12 00:00:00\n",
      "2024-01-13 00:00:00\n",
      "2024-01-14 00:00:00\n",
      "2024-01-15 00:00:00\n",
      "2024-01-16 00:00:00\n",
      "2024-01-17 00:00:00\n",
      "2024-01-18 00:00:00\n",
      "2024-01-19 00:00:00\n",
      "2024-01-20 00:00:00\n",
      "2024-01-21 00:00:00\n",
      "2024-01-22 00:00:00\n",
      "2024-01-23 00:00:00\n",
      "2024-01-24 00:00:00\n",
      "2024-01-25 00:00:00\n",
      "2024-01-26 00:00:00\n",
      "2024-01-27 00:00:00\n",
      "2024-01-28 00:00:00\n",
      "2024-01-29 00:00:00\n",
      "2024-01-30 00:00:00\n",
      "2024-01-31 00:00:00\n",
      "2024-02-01 00:00:00\n",
      "2024-02-02 00:00:00\n",
      "2024-02-03 00:00:00\n",
      "2024-02-04 00:00:00\n",
      "2024-02-05 00:00:00\n",
      "2024-02-06 00:00:00\n",
      "2024-02-07 00:00:00\n",
      "2024-02-08 00:00:00\n",
      "2024-02-09 00:00:00\n",
      "2024-02-10 00:00:00\n",
      "2024-02-11 00:00:00\n",
      "2024-02-12 00:00:00\n",
      "2024-02-13 00:00:00\n",
      "2024-02-14 00:00:00\n",
      "2024-02-15 00:00:00\n",
      "2024-02-16 00:00:00\n",
      "2024-02-17 00:00:00\n",
      "2024-02-18 00:00:00\n",
      "2024-02-19 00:00:00\n",
      "2024-02-20 00:00:00\n",
      "2024-02-21 00:00:00\n",
      "2024-02-22 00:00:00\n",
      "2024-02-23 00:00:00\n",
      "2024-02-24 00:00:00\n",
      "2024-02-25 00:00:00\n",
      "2024-02-26 00:00:00\n",
      "2024-02-27 00:00:00\n",
      "2024-02-28 00:00:00\n",
      "2024-02-29 00:00:00\n",
      "2024-03-01 00:00:00\n",
      "2024-03-02 00:00:00\n",
      "2024-03-03 00:00:00\n",
      "2024-03-04 00:00:00\n",
      "2024-03-05 00:00:00\n",
      "2024-03-06 00:00:00\n",
      "2024-03-07 00:00:00\n",
      "2024-03-08 00:00:00\n",
      "2024-03-09 00:00:00\n",
      "2024-03-10 00:00:00\n",
      "2024-03-11 00:00:00\n",
      "2024-03-12 00:00:00\n",
      "2024-03-13 00:00:00\n",
      "2024-03-14 00:00:00\n",
      "2024-03-15 00:00:00\n",
      "2024-03-16 00:00:00\n",
      "2024-03-17 00:00:00\n",
      "2024-03-18 00:00:00\n",
      "2024-03-19 00:00:00\n",
      "2024-03-20 00:00:00\n",
      "2024-03-21 00:00:00\n",
      "2024-03-22 00:00:00\n",
      "2024-03-23 00:00:00\n",
      "2024-03-24 00:00:00\n",
      "2024-03-25 00:00:00\n",
      "2024-03-26 00:00:00\n",
      "2024-03-27 00:00:00\n",
      "2024-03-28 00:00:00\n",
      "2024-03-29 00:00:00\n",
      "2024-03-30 00:00:00\n",
      "2024-03-31 00:00:00\n",
      "2024-04-01 00:00:00\n",
      "2024-04-02 00:00:00\n",
      "2024-04-03 00:00:00\n",
      "2024-04-04 00:00:00\n",
      "2024-04-05 00:00:00\n",
      "2024-04-06 00:00:00\n",
      "2024-04-07 00:00:00\n",
      "2024-04-08 00:00:00\n",
      "2024-04-09 00:00:00\n",
      "2024-04-10 00:00:00\n",
      "2024-04-11 00:00:00\n",
      "2024-04-12 00:00:00\n",
      "2024-04-13 00:00:00\n",
      "2024-04-14 00:00:00\n",
      "2024-04-15 00:00:00\n",
      "2024-04-16 00:00:00\n",
      "2024-04-17 00:00:00\n",
      "2024-04-18 00:00:00\n",
      "2024-04-19 00:00:00\n",
      "2024-04-20 00:00:00\n",
      "2024-04-21 00:00:00\n",
      "2024-04-22 00:00:00\n",
      "2024-04-23 00:00:00\n",
      "2024-04-24 00:00:00\n",
      "2024-04-25 00:00:00\n",
      "2024-04-26 00:00:00\n",
      "2024-04-27 00:00:00\n",
      "2024-04-28 00:00:00\n",
      "2024-04-29 00:00:00\n",
      "2024-04-30 00:00:00\n",
      "2024-05-01 00:00:00\n",
      "2024-05-02 00:00:00\n",
      "2024-05-03 00:00:00\n",
      "2024-05-04 00:00:00\n",
      "2024-05-05 00:00:00\n",
      "2024-05-06 00:00:00\n",
      "2024-05-07 00:00:00\n",
      "2024-05-08 00:00:00\n",
      "2024-05-09 00:00:00\n",
      "2024-05-10 00:00:00\n",
      "2024-05-11 00:00:00\n",
      "2024-05-12 00:00:00\n",
      "2024-05-13 00:00:00\n",
      "2024-05-14 00:00:00\n",
      "2024-05-15 00:00:00\n",
      "2024-05-16 00:00:00\n",
      "2024-05-17 00:00:00\n",
      "2024-05-18 00:00:00\n",
      "2024-05-19 00:00:00\n",
      "2024-05-20 00:00:00\n",
      "2024-05-21 00:00:00\n",
      "2024-05-22 00:00:00\n",
      "2024-05-23 00:00:00\n",
      "2024-05-24 00:00:00\n",
      "2024-05-25 00:00:00\n",
      "2024-05-26 00:00:00\n",
      "2024-05-27 00:00:00\n",
      "2024-05-28 00:00:00\n",
      "2024-05-29 00:00:00\n",
      "2024-05-30 00:00:00\n",
      "2024-05-31 00:00:00\n",
      "2024-06-01 00:00:00\n",
      "2024-06-02 00:00:00\n",
      "2024-06-03 00:00:00\n",
      "2024-06-04 00:00:00\n",
      "2024-06-05 00:00:00\n",
      "2024-06-06 00:00:00\n",
      "2024-06-07 00:00:00\n",
      "2024-06-08 00:00:00\n",
      "2024-06-09 00:00:00\n",
      "2024-06-10 00:00:00\n",
      "2024-06-11 00:00:00\n",
      "2024-06-12 00:00:00\n",
      "2024-06-13 00:00:00\n",
      "2024-06-14 00:00:00\n",
      "2024-06-15 00:00:00\n",
      "2024-06-16 00:00:00\n",
      "2024-06-17 00:00:00\n",
      "2024-06-18 00:00:00\n",
      "2024-06-19 00:00:00\n",
      "2024-06-20 00:00:00\n",
      "2024-06-21 00:00:00\n",
      "2024-06-22 00:00:00\n",
      "2024-06-23 00:00:00\n",
      "2024-06-24 00:00:00\n",
      "2024-06-25 00:00:00\n",
      "2024-06-26 00:00:00\n",
      "2024-06-27 00:00:00\n",
      "2024-06-28 00:00:00\n",
      "2024-06-29 00:00:00\n",
      "2024-06-30 00:00:00\n",
      "2024-07-01 00:00:00\n",
      "2024-07-02 00:00:00\n",
      "2024-07-03 00:00:00\n",
      "2024-07-04 00:00:00\n",
      "2024-07-05 00:00:00\n",
      "2024-07-06 00:00:00\n",
      "2024-07-07 00:00:00\n",
      "2024-07-08 00:00:00\n",
      "2024-07-09 00:00:00\n",
      "2024-07-10 00:00:00\n",
      "2024-07-11 00:00:00\n",
      "2024-07-12 00:00:00\n",
      "2024-07-13 00:00:00\n",
      "2024-07-14 00:00:00\n",
      "2024-07-15 00:00:00\n",
      "2024-07-16 00:00:00\n",
      "2024-07-17 00:00:00\n",
      "2024-07-18 00:00:00\n",
      "2024-07-19 00:00:00\n",
      "2024-07-20 00:00:00\n",
      "2024-07-21 00:00:00\n",
      "2024-07-22 00:00:00\n",
      "2024-07-23 00:00:00\n",
      "2024-07-24 00:00:00\n",
      "2024-07-25 00:00:00\n",
      "2024-07-26 00:00:00\n",
      "2024-07-27 00:00:00\n",
      "2024-07-28 00:00:00\n",
      "2024-07-29 00:00:00\n",
      "2024-07-30 00:00:00\n",
      "2024-07-31 00:00:00\n",
      "2024-08-01 00:00:00\n",
      "2024-08-02 00:00:00\n",
      "2024-08-03 00:00:00\n",
      "2024-08-04 00:00:00\n",
      "2024-08-05 00:00:00\n",
      "2024-08-06 00:00:00\n",
      "2024-08-07 00:00:00\n",
      "2024-08-08 00:00:00\n",
      "2024-08-09 00:00:00\n",
      "2024-08-10 00:00:00\n",
      "2024-08-11 00:00:00\n",
      "2024-08-12 00:00:00\n",
      "2024-08-13 00:00:00\n",
      "2024-08-14 00:00:00\n",
      "2024-08-15 00:00:00\n",
      "2024-08-16 00:00:00\n",
      "2024-08-17 00:00:00\n",
      "2024-08-18 00:00:00\n",
      "2024-08-19 00:00:00\n",
      "2024-08-20 00:00:00\n",
      "2024-08-21 00:00:00\n",
      "2024-08-22 00:00:00\n",
      "2024-08-23 00:00:00\n",
      "2024-08-24 00:00:00\n",
      "2024-08-25 00:00:00\n",
      "2024-08-26 00:00:00\n",
      "2024-08-27 00:00:00\n",
      "2024-08-28 00:00:00\n",
      "2024-08-29 00:00:00\n",
      "2024-08-30 00:00:00\n",
      "2024-08-31 00:00:00\n",
      "2024-09-01 00:00:00\n",
      "2024-09-02 00:00:00\n",
      "2024-09-03 00:00:00\n",
      "2024-09-04 00:00:00\n",
      "2024-09-05 00:00:00\n",
      "2024-09-06 00:00:00\n",
      "2024-09-07 00:00:00\n",
      "2024-09-08 00:00:00\n",
      "2024-09-09 00:00:00\n",
      "2024-09-10 00:00:00\n",
      "2024-09-11 00:00:00\n",
      "2024-09-12 00:00:00\n",
      "2024-09-13 00:00:00\n",
      "2024-09-14 00:00:00\n",
      "2024-09-15 00:00:00\n",
      "2024-09-16 00:00:00\n",
      "2024-09-17 00:00:00\n",
      "2024-09-18 00:00:00\n",
      "2024-09-19 00:00:00\n",
      "2024-09-20 00:00:00\n",
      "2024-09-21 00:00:00\n",
      "2024-09-22 00:00:00\n",
      "2024-09-23 00:00:00\n",
      "2024-09-24 00:00:00\n",
      "2024-09-25 00:00:00\n",
      "2024-09-26 00:00:00\n",
      "2024-09-27 00:00:00\n",
      "2024-09-28 00:00:00\n",
      "2024-09-29 00:00:00\n",
      "2024-09-30 00:00:00\n",
      "2024-10-01 00:00:00\n",
      "2024-10-02 00:00:00\n",
      "2024-10-03 00:00:00\n"
     ]
    }
   ],
   "source": [
    "import pandas as pd\n",
    "\n",
    "date_range = pd.date_range(start = '2024-01-01' ,end = datetime.now() , freq = 'd')\n",
    "for val in date_range:\n",
    "    print(val)"
   ]
  },
  {
   "cell_type": "code",
   "execution_count": 37,
   "metadata": {},
   "outputs": [
    {
     "name": "stdout",
     "output_type": "stream",
     "text": [
      "2024-12-31 00:00:00\n",
      "2025-12-31 00:00:00\n",
      "2026-12-31 00:00:00\n",
      "2027-12-31 00:00:00\n",
      "2028-12-31 00:00:00\n"
     ]
    }
   ],
   "source": [
    "date_range1 = pd.date_range(start = '2024-01-01' , periods = 5 , freq = 'y')\n",
    "for val1 in date_range1:\n",
    "    print(val1)"
   ]
  },
  {
   "cell_type": "markdown",
   "metadata": {},
   "source": [
    "# DateTime And DataFrame"
   ]
  },
  {
   "cell_type": "code",
   "execution_count": 41,
   "metadata": {},
   "outputs": [
    {
     "name": "stdout",
     "output_type": "stream",
     "text": [
      "Created Dataframe Is : \n",
      "             Asim  Shreyash  Anya  Mefox\n",
      "2024-01-01     1        11    21     31\n",
      "2024-01-02     2        12    22     32\n",
      "2024-01-03     3        13    23     33\n",
      "2024-01-04     4        14    24     34\n",
      "2024-01-05     5        15    25     35\n"
     ]
    }
   ],
   "source": [
    "# Creating row index values for our data frame \n",
    "ind = pd.date_range('2024-01-01', periods=5, freq='d') \n",
    "  \n",
    "# Creating a dataframe with 4 columns \n",
    "# using \"ind\" as the index for our dataframe \n",
    "df = pd.DataFrame({\"Asim\": [1, 2, 3, 4, 5], \n",
    "                   \"Shreyash\": [11, 12, 13, 14, 15], \n",
    "                   \"Anya\": [21, 22, 23, 24, 25], \n",
    "                   \"Mefox\": [31, 32, 33, 34, 35]}, \n",
    "                  index=ind) \n",
    "print(\"Created Dataframe Is : \\n\",df)"
   ]
  },
  {
   "cell_type": "code",
   "execution_count": 43,
   "metadata": {},
   "outputs": [
    {
     "name": "stdout",
     "output_type": "stream",
     "text": [
      "Combined DateTime Is : \n",
      "          date\n",
      "0  2022-01-01\n",
      "1  2022-02-01\n",
      "2  2022-03-01\n",
      "        date  day  month  year\n",
      "0 2022-01-01    1      1  2022\n",
      "1 2022-02-01    1      2  2022\n",
      "2 2022-03-01    1      3  2022\n"
     ]
    }
   ],
   "source": [
    "import pandas as pd\n",
    "\n",
    "# create a sample data frame\n",
    "data = {'date': ['2022-01-01', '2022-02-01', '2022-03-01']}\n",
    "df = pd.DataFrame(data)\n",
    "\n",
    "# show the original data frame\n",
    "print(\"Combined DateTime Is : \\n\",df)\n",
    "\n",
    "# convert the date column into a datetime object\n",
    "df['date'] = pd.to_datetime(df['date'])\n",
    "\n",
    "# extract the day, month, and year components\n",
    "df['day'] = df['date'].dt.day\n",
    "df['month'] = df['date'].dt.month\n",
    "df['year'] = df['date'].dt.year\n",
    "\n",
    "# show the modified data frame\n",
    "print(df)"
   ]
  },
  {
   "cell_type": "code",
   "execution_count": 49,
   "metadata": {},
   "outputs": [
    {
     "name": "stdout",
     "output_type": "stream",
     "text": [
      "Experience at Job 1: 1095 days\n",
      "Experience at Job 2: 806 days\n",
      "Experience at Job 3: 1125 days\n",
      "Total Experience: 8 years and 3 months\n"
     ]
    }
   ],
   "source": [
    "# Define the start and end dates for each job\n",
    "job1_start = datetime(2015, 6, 1)  # Example: June 1, 2015\n",
    "job1_end = datetime(2018, 5, 31)    # Example: May 31, 2018\n",
    "\n",
    "job2_start = datetime(2018, 6, 1)   # Example: June 1, 2018\n",
    "job2_end = datetime(2020, 8, 15)     # Example: August 15, 2020\n",
    "\n",
    "job3_start = datetime(2020, 9, 1)   # Example: September 1, 2020\n",
    "job3_end = datetime(2023, 10, 1)     # Example: October 1, 2023\n",
    "\n",
    "# Calculate experience for each job\n",
    "def calculate_experience(start, end):\n",
    "    return end - start\n",
    "\n",
    "experience1 = calculate_experience(job1_start, job1_end)\n",
    "experience2 = calculate_experience(job2_start, job2_end)\n",
    "experience3 = calculate_experience(job3_start, job3_end)\n",
    "\n",
    "# Sum up the total experience\n",
    "total_experience = experience1 + experience2 + experience3\n",
    "\n",
    "# Convert total experience to years and months\n",
    "total_days = total_experience.days\n",
    "years = total_days // 365\n",
    "months = (total_days % 365) // 30\n",
    "\n",
    "# Display the results\n",
    "print(f\"Experience at Job 1: {experience1.days} days\")\n",
    "print(f\"Experience at Job 2: {experience2.days} days\")\n",
    "print(f\"Experience at Job 3: {experience3.days} days\")\n",
    "print(f\"Total Experience: {years} years and {months} months\")\n"
   ]
  },
  {
   "cell_type": "code",
   "execution_count": 56,
   "metadata": {},
   "outputs": [
    {
     "name": "stdout",
     "output_type": "stream",
     "text": [
      "Enter your birth date (YYYY-MM-DD): 2003-01-22\n",
      "Your Birth_Date Is : \n",
      " 2003-01-22 00:00:00\n",
      "!!!!!!!!!!!!Congratulations You are 21 years old Now....!!!!!!!!!!!✨🎊🎁🎈\n"
     ]
    }
   ],
   "source": [
    "# Get user input for birth date\n",
    "birth_date= input(\"Enter your birth date (YYYY-MM-DD): \")\n",
    "\n",
    "# Convert input string to a datetime object\n",
    "birth_date = datetime.strptime(birth_date, '%Y-%m-%d')\n",
    "print(\"Your Birth_Date Is : \\n\",birth_date)\n",
    "\n",
    "# Calculate age\n",
    "today = datetime.now()\n",
    "age = today.year - birth_date.year - ((today.month, today.day) < (birth_date.month, birth_date.day))\n",
    "\n",
    "# Print the result\n",
    "print(f\"!!!!!!!!!!!!Congratulations You are {age} years old Now....!!!!!!!!!!!✨🎊🎁🎈\")"
   ]
  },
  {
   "cell_type": "code",
   "execution_count": null,
   "metadata": {},
   "outputs": [],
   "source": []
  }
 ],
 "metadata": {
  "kernelspec": {
   "display_name": "Python 3",
   "language": "python",
   "name": "python3"
  },
  "language_info": {
   "codemirror_mode": {
    "name": "ipython",
    "version": 3
   },
   "file_extension": ".py",
   "mimetype": "text/x-python",
   "name": "python",
   "nbconvert_exporter": "python",
   "pygments_lexer": "ipython3",
   "version": "3.8.5"
  }
 },
 "nbformat": 4,
 "nbformat_minor": 4
}
