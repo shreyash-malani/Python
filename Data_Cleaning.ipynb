{
 "cells": [
  {
   "cell_type": "markdown",
   "metadata": {},
   "source": [
    "# Removing Text"
   ]
  },
  {
   "cell_type": "markdown",
   "metadata": {},
   "source": [
    "### Removing Tags From Text Using (compile and sub)"
   ]
  },
  {
   "cell_type": "code",
   "execution_count": 7,
   "metadata": {},
   "outputs": [
    {
     "name": "stdout",
     "output_type": "stream",
     "text": [
      "Before : \n",
      " <h1>This is heading </h1>\n",
      "<p>This is a paragraph.</p>\n",
      "After :\n",
      " This is heading \n",
      "This is a paragraph.\n"
     ]
    }
   ],
   "source": [
    "import re\n",
    "\n",
    "def remove_html_tag(text) :\n",
    "    clean = re.compile('<.*?>') #It is fixed Expression for finding tags in text\n",
    "    return re.sub(clean, '' ,text)\n",
    "\n",
    "html_text = \"<h1>This is heading </h1>\\n<p>This is a paragraph.</p>\"\n",
    "clean_text = remove_html_tag(html_text)\n",
    "print('Before : \\n',html_text)\n",
    "print('After :\\n',clean_text)"
   ]
  },
  {
   "cell_type": "markdown",
   "metadata": {},
   "source": [
    "### Removing Tags From Text Using Parser method(BeautifulSoup)"
   ]
  },
  {
   "cell_type": "code",
   "execution_count": 9,
   "metadata": {},
   "outputs": [
    {
     "name": "stdout",
     "output_type": "stream",
     "text": [
      "Before : \n",
      " <h1>This is a Heading</h1>\n",
      "<p>This is a paragraph.</p>\n",
      "After :\n",
      " This is a Heading\n",
      "This is a paragraph.\n"
     ]
    }
   ],
   "source": [
    "from bs4 import BeautifulSoup        #Beautiful Soup is a library that makes it easy to scrape information from web pages. It sits atop an HTML or XML parser, providing Pythonic idioms for iterating, searching, and modifying the parse tree.\n",
    "\n",
    "def remove_html_tags(text) :\n",
    "    soup = BeautifulSoup(text, \"html.parser\")\n",
    "    return soup.get_text()\n",
    "\n",
    "html_text = \"<h1>This is a Heading</h1>\\n<p>This is a paragraph.</p>\"\n",
    "clean_text = remove_html_tags(html_text)\n",
    "\n",
    "print('Before : \\n',html_text)\n",
    "print('After :\\n',clean_text)\n"
   ]
  },
  {
   "cell_type": "markdown",
   "metadata": {},
   "source": [
    "# Removing Emoji's"
   ]
  },
  {
   "cell_type": "markdown",
   "metadata": {},
   "source": [
    "### Removing Emoji's By using RE Expression"
   ]
  },
  {
   "cell_type": "code",
   "execution_count": 1,
   "metadata": {},
   "outputs": [
    {
     "name": "stdout",
     "output_type": "stream",
     "text": [
      "Emojis which are intialize : \n",
      "\n",
      "😀\n",
      "🙏\n",
      "🌀\n",
      "🗿\n",
      "🚀\n",
      "🛿\n",
      "🇠\n",
      "🇿\n",
      "✂\n",
      "➰\n",
      "Ⓜ\n",
      "🉑\n",
      "Original: Hello User i am Asim 😀! I am learning NLP Pipeline ➖ for Machine learning 💻 🚀💡\n",
      "Without Emojis: Hello User i am Asim ! I am learning NLP Pipeline  for Machine learning  \n"
     ]
    }
   ],
   "source": [
    "import re\n",
    "\n",
    "print(\"Emojis which are intialize : \\n\")\n",
    "print(\"\\U0001f600\")\n",
    "print(\"\\U0001F64F\")\n",
    "print(\"\\U0001F300\")\n",
    "print(\"\\U0001F5FF\")\n",
    "print(\"\\U0001F680\")\n",
    "print(\"\\U0001F6FF\")\n",
    "print(\"\\U0001F1E0\")\n",
    "print(\"\\U0001F1FF\")\n",
    "print(\"\\U00002702\")\n",
    "print(\"\\U000027B0\")\n",
    "print(\"\\U000024C2\")\n",
    "print(\"\\U0001F251\")\n",
    "\n",
    "def remove_emojis(text):\n",
    "    # Define a regex pattern that matches emoji characters\n",
    "    emoji_pattern = re.compile(\n",
    "        \"[\"\n",
    "        u\"\\U0001F600-\\U0001F64F\"  # Emoticons\n",
    "        u\"\\U0001F300-\\U0001F5FF\"  # Miscellaneous Symbols and Pictographs\n",
    "        u\"\\U0001F680-\\U0001F6FF\"  # Transport and Map Symbols\n",
    "        u\"\\U0001F1E0-\\U0001F1FF\"  # Flags (iOS)\n",
    "        u\"\\U00002702-\\U000027B0\"  # Dingbats\n",
    "        u\"\\U000024C2-\\U0001F251\"  # Enclosed characters\n",
    "        u\"\\U00002796-\\U0001F4BB\"\n",
    "        \"]+\", flags=re.UNICODE\n",
    "    )\n",
    "    return emoji_pattern.sub(r'', text)\n",
    "\n",
    "# Example usage\n",
    "text_with_emojis = \"Hello User i am Asim 😀! I am learning NLP Pipeline ➖ for Machine learning 💻 🚀💡\"\n",
    "clean_text = remove_emojis(text_with_emojis)\n",
    "\n",
    "print(f\"Original: {text_with_emojis}\")\n",
    "print(f\"Without Emojis: {clean_text}\")"
   ]
  },
  {
   "cell_type": "code",
   "execution_count": null,
   "metadata": {},
   "outputs": [],
   "source": []
  }
 ],
 "metadata": {
  "kernelspec": {
   "display_name": "Python 3 (ipykernel)",
   "language": "python",
   "name": "python3"
  },
  "language_info": {
   "codemirror_mode": {
    "name": "ipython",
    "version": 3
   },
   "file_extension": ".py",
   "mimetype": "text/x-python",
   "name": "python",
   "nbconvert_exporter": "python",
   "pygments_lexer": "ipython3",
   "version": "3.12.4"
  }
 },
 "nbformat": 4,
 "nbformat_minor": 4
}
